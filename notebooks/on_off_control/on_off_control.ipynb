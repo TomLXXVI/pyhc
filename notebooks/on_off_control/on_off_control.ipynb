{
 "cells": [
  {
   "cell_type": "markdown",
   "metadata": {},
   "source": [
    "# Room Temperature Control with On/Off Controller\n",
    "Simulating room temperature control with an on/off-controller in heating mode. You can modify model parameters and then press the 'submit' button to see their effect on the control process.\n",
    "Note: at time 6h the set point is lowered with 3 K. At 12h the set point is restored to the original value. "
   ]
  },
  {
   "cell_type": "code",
   "execution_count": 1,
   "metadata": {},
   "outputs": [
    {
     "data": {
      "application/vnd.jupyter.widget-view+json": {
       "model_id": "0a7f17bc073443769c477b01cf3dbab8",
       "version_major": 2,
       "version_minor": 0
      },
      "text/plain": [
       "HBox(children=(VBox(children=(VBox(children=(HBox(children=(HTML(value='<b>Time step</b>', layout=Layout(width…"
      ]
     },
     "metadata": {},
     "output_type": "display_data"
    }
   ],
   "source": [
    "%matplotlib inline\n",
    "import dependencies\n",
    "from IPython.display import display\n",
    "from on_off_control import gui\n",
    "display(gui)"
   ]
  }
 ],
 "metadata": {
  "kernelspec": {
   "display_name": "Python 3",
   "language": "python",
   "name": "python3"
  },
  "language_info": {
   "codemirror_mode": {
    "name": "ipython",
    "version": 3
   },
   "file_extension": ".py",
   "mimetype": "text/x-python",
   "name": "python",
   "nbconvert_exporter": "python",
   "pygments_lexer": "ipython3",
   "version": "3.7.4"
  },
  "widgets": {
   "application/vnd.jupyter.widget-state+json": {
    "state": {
     "0004240bc16b4ea7855aa589f3f6e5a1": {
      "model_module": "@jupyter-widgets/controls",
      "model_module_version": "1.5.0",
      "model_name": "HTMLModel",
      "state": {
       "layout": "IPY_MODEL_7a4a6170d93d4b9cb4e233be51d8cc7a",
       "style": "IPY_MODEL_4af5b85ff2b843aeb48f6d15ce52c270",
       "value": "amplitude"
      }
     },
     "00d1902b5f514225bab6f07d9c892428": {
      "model_module": "@jupyter-widgets/base",
      "model_module_version": "1.2.0",
      "model_name": "LayoutModel",
      "state": {
       "width": "300px"
      }
     },
     "01efe3a0d74a432ab27eaa9a320278b2": {
      "model_module": "@jupyter-widgets/controls",
      "model_module_version": "1.5.0",
      "model_name": "DescriptionStyleModel",
      "state": {
       "description_width": ""
      }
     },
     "02892bf67c0d46bd91525154759cb2d1": {
      "model_module": "@jupyter-widgets/controls",
      "model_module_version": "1.5.0",
      "model_name": "FloatTextModel",
      "state": {
       "layout": "IPY_MODEL_4b832f8c2e15426dbb297164a7163ad5",
       "step": null,
       "style": "IPY_MODEL_d444381bb9d74c158f9c14f8719a7670",
       "value": 78470
      }
     },
     "02b1083ca71a46a08e493c1b86510dab": {
      "model_module": "@jupyter-widgets/base",
      "model_module_version": "1.2.0",
      "model_name": "LayoutModel",
      "state": {}
     },
     "031f729a055544c3b0b8a89ff2d12156": {
      "model_module": "@jupyter-widgets/controls",
      "model_module_version": "1.5.0",
      "model_name": "HBoxModel",
      "state": {
       "children": [
        "IPY_MODEL_a7b41037ea4444c08c484d322310ce12",
        "IPY_MODEL_e0e9e067f6444e48b82de0cccb567852",
        "IPY_MODEL_304f7afa165543b3997bf23d6486a222"
       ],
       "layout": "IPY_MODEL_3579a0e0fa504984b3e3b5fe517c1db2"
      }
     },
     "049f509a59c6440d9c4ef6a0971e4b08": {
      "model_module": "@jupyter-widgets/controls",
      "model_module_version": "1.5.0",
      "model_name": "DescriptionStyleModel",
      "state": {
       "description_width": ""
      }
     },
     "04b4d9f627ad4ed880b992160bd678ab": {
      "model_module": "@jupyter-widgets/controls",
      "model_module_version": "1.5.0",
      "model_name": "DescriptionStyleModel",
      "state": {
       "description_width": ""
      }
     },
     "04df3b8d7a8f47f190a518412fc17a37": {
      "model_module": "@jupyter-widgets/controls",
      "model_module_version": "1.5.0",
      "model_name": "DescriptionStyleModel",
      "state": {
       "description_width": ""
      }
     },
     "07071967054f4182a10d4944f3c8f868": {
      "model_module": "@jupyter-widgets/base",
      "model_module_version": "1.2.0",
      "model_name": "LayoutModel",
      "state": {
       "width": "300px"
      }
     },
     "07a8ab291bd94c698953ca750126949c": {
      "model_module": "@jupyter-widgets/controls",
      "model_module_version": "1.5.0",
      "model_name": "LabelModel",
      "state": {
       "layout": "IPY_MODEL_ee3cd2160bab419cb52b43c6b7d812ee",
       "style": "IPY_MODEL_b4d97493095743c09025082ecd6c4fc0",
       "value": "K"
      }
     },
     "0814be5fe4b24359926b9564aa4ae2dd": {
      "model_module": "@jupyter-widgets/controls",
      "model_module_version": "1.5.0",
      "model_name": "HBoxModel",
      "state": {
       "children": [
        "IPY_MODEL_f026d38da63b417d892f656d3146815c"
       ],
       "layout": "IPY_MODEL_fcee4bd28b504b30b17c5c2df010d9b7"
      }
     },
     "09489316666d4d21937cdfc257c7e7dd": {
      "model_module": "@jupyter-widgets/base",
      "model_module_version": "1.2.0",
      "model_name": "LayoutModel",
      "state": {
       "width": "100px"
      }
     },
     "0971f27666ba49a3bfaa62410b0ac443": {
      "model_module": "@jupyter-widgets/controls",
      "model_module_version": "1.5.0",
      "model_name": "DescriptionStyleModel",
      "state": {
       "description_width": ""
      }
     },
     "0a7f17bc073443769c477b01cf3dbab8": {
      "model_module": "@jupyter-widgets/controls",
      "model_module_version": "1.5.0",
      "model_name": "HBoxModel",
      "state": {
       "children": [
        "IPY_MODEL_12172b49bb7e49a2a3bc6448681f4698",
        "IPY_MODEL_0ffdd7397adf465083952198ed51a357"
       ],
       "layout": "IPY_MODEL_85db9ebea003448bb37f3248b98b4610"
      }
     },
     "0b2984b3585f4a49beb9d052d54f2b2a": {
      "model_module": "@jupyter-widgets/controls",
      "model_module_version": "1.5.0",
      "model_name": "HTMLModel",
      "state": {
       "layout": "IPY_MODEL_de1cfa25f936487c96bebaf6cda440be",
       "style": "IPY_MODEL_676547296f304e0182e6e435992337ed",
       "value": "<b>On/off-controller parameters</b>"
      }
     },
     "0b61eb4595144d508e2cbcb88643a01a": {
      "model_module": "@jupyter-widgets/controls",
      "model_module_version": "1.5.0",
      "model_name": "HTMLModel",
      "state": {
       "layout": "IPY_MODEL_07071967054f4182a10d4944f3c8f868",
       "style": "IPY_MODEL_53b0976bfc9d49eb904f35c8d53db13c",
       "value": "radiator exponent"
      }
     },
     "0c00be342af0465ca4973f5bb7693b71": {
      "model_module": "@jupyter-widgets/controls",
      "model_module_version": "1.5.0",
      "model_name": "HBoxModel",
      "state": {
       "children": [
        "IPY_MODEL_dec052316d68451c9e336d1d92aaaaa5",
        "IPY_MODEL_52fede8d0269448db7b4d4c154b1be48",
        "IPY_MODEL_23707883f74e481e9d384064a701af10"
       ],
       "layout": "IPY_MODEL_45ba61deda924fbf862bbf1c4b9a95d3"
      }
     },
     "0e50bffdede24a839e1625782d252003": {
      "model_module": "@jupyter-widgets/controls",
      "model_module_version": "1.5.0",
      "model_name": "FloatTextModel",
      "state": {
       "layout": "IPY_MODEL_846f3e23150c4b7184d35a661b7874b6",
       "step": null,
       "style": "IPY_MODEL_6b4ca344d1c04adaba404e78e17a107a",
       "value": 1886
      }
     },
     "0e5ddf878dd4418a8fd4ad4c54c5d550": {
      "model_module": "@jupyter-widgets/base",
      "model_module_version": "1.2.0",
      "model_name": "LayoutModel",
      "state": {
       "width": "100px"
      }
     },
     "0e659a1c747e404ea4650f8106f5e792": {
      "model_module": "@jupyter-widgets/controls",
      "model_module_version": "1.5.0",
      "model_name": "DescriptionStyleModel",
      "state": {
       "description_width": ""
      }
     },
     "0ffdd7397adf465083952198ed51a357": {
      "model_module": "@jupyter-widgets/controls",
      "model_module_version": "1.5.0",
      "model_name": "HBoxModel",
      "state": {
       "children": [
        "IPY_MODEL_4dfa688aff174bf2b782de345f93af8e"
       ],
       "layout": "IPY_MODEL_ae6c488ca53143b488d774b0a197a3f1"
      }
     },
     "1016978c1756481797dd3bb49ea10ea7": {
      "model_module": "@jupyter-widgets/controls",
      "model_module_version": "1.5.0",
      "model_name": "HTMLModel",
      "state": {
       "layout": "IPY_MODEL_67a96d5e2490415d8cab24ccf74bd8e9",
       "style": "IPY_MODEL_5dbfaa29a91141509b59baea19b76d7e",
       "value": "heat output (Q_e)"
      }
     },
     "108d130633a64d66aab502fca852ad74": {
      "model_module": "@jupyter-widgets/controls",
      "model_module_version": "1.5.0",
      "model_name": "DescriptionStyleModel",
      "state": {
       "description_width": ""
      }
     },
     "11b256bfeee24f4185505e19146027ad": {
      "model_module": "@jupyter-widgets/controls",
      "model_module_version": "1.5.0",
      "model_name": "LabelModel",
      "state": {
       "layout": "IPY_MODEL_3132dd2e937544ad939e7dd7228157c1",
       "style": "IPY_MODEL_b6b162211f8c4a50af7e089ef20263a3",
       "value": "J/K"
      }
     },
     "12172b49bb7e49a2a3bc6448681f4698": {
      "model_module": "@jupyter-widgets/controls",
      "model_module_version": "1.5.0",
      "model_name": "VBoxModel",
      "state": {
       "children": [
        "IPY_MODEL_2f71a6310b9d4f36b2ae72b421b75911",
        "IPY_MODEL_233d37bc7e4e413ba2d73e1f172955bb"
       ],
       "layout": "IPY_MODEL_1da00713312645b3ab794b27bdc007f3"
      }
     },
     "126cea6f9ed3415b994de4d0b82553c3": {
      "model_module": "@jupyter-widgets/controls",
      "model_module_version": "1.5.0",
      "model_name": "HTMLModel",
      "state": {
       "layout": "IPY_MODEL_ead17423c4dd4e4c9288d112109b2771",
       "style": "IPY_MODEL_8b889c779b70414bb0129b53479a1c68",
       "value": "set point"
      }
     },
     "12d8f647f7ef44fdadf6747d6150e0af": {
      "model_module": "@jupyter-widgets/base",
      "model_module_version": "1.2.0",
      "model_name": "LayoutModel",
      "state": {
       "width": "100px"
      }
     },
     "13c6839b35b946debefcb1f14188e2c0": {
      "model_module": "@jupyter-widgets/base",
      "model_module_version": "1.2.0",
      "model_name": "LayoutModel",
      "state": {}
     },
     "14ede879ec8347dbafadebca44db9389": {
      "model_module": "@jupyter-widgets/base",
      "model_module_version": "1.2.0",
      "model_name": "LayoutModel",
      "state": {}
     },
     "16fcc32d706848a7b53feb87bc9fb951": {
      "model_module": "@jupyter-widgets/base",
      "model_module_version": "1.2.0",
      "model_name": "LayoutModel",
      "state": {
       "width": "300px"
      }
     },
     "1a98c51a26a8472a9d3e938f7b569efb": {
      "model_module": "@jupyter-widgets/controls",
      "model_module_version": "1.5.0",
      "model_name": "HBoxModel",
      "state": {
       "children": [
        "IPY_MODEL_7fc877b4c02a4a69b06c02161fe61e22",
        "IPY_MODEL_43f94feebbaf447ab5c795a2cfbe764b",
        "IPY_MODEL_d0e5526b5d9e4e30be72bdac1d34251a"
       ],
       "layout": "IPY_MODEL_8ba7ceae1861431f9689cea332db6450"
      }
     },
     "1ab9635271654d8a94b5e11e9aa57957": {
      "model_module": "@jupyter-widgets/controls",
      "model_module_version": "1.5.0",
      "model_name": "HBoxModel",
      "state": {
       "children": [
        "IPY_MODEL_1fbe53eb0bc64941b7133f12116f7871",
        "IPY_MODEL_6c0780b11226436ea0d4ad2001d22828",
        "IPY_MODEL_4757f9c6ae6442228eeafb5cf8a0be0b"
       ],
       "layout": "IPY_MODEL_9605ce531a3349d88af767ff135dcad6"
      }
     },
     "1af0bc34e2754255998614b0e7eb729c": {
      "model_module": "@jupyter-widgets/controls",
      "model_module_version": "1.5.0",
      "model_name": "HBoxModel",
      "state": {
       "children": [
        "IPY_MODEL_f4eae4764c55417c979a8179ef95b648",
        "IPY_MODEL_f22df83a95bb4adfa2328bd1feccfd23",
        "IPY_MODEL_faf1458922264acfb6f3f602121fffd2"
       ],
       "layout": "IPY_MODEL_51ab9fd88b7f448eb1aa103949fc1703"
      }
     },
     "1da00713312645b3ab794b27bdc007f3": {
      "model_module": "@jupyter-widgets/base",
      "model_module_version": "1.2.0",
      "model_name": "LayoutModel",
      "state": {
       "flex": "0 0 auto"
      }
     },
     "1efc302f73234a85b5e370568b5a1c7b": {
      "model_module": "@jupyter-widgets/controls",
      "model_module_version": "1.5.0",
      "model_name": "LabelModel",
      "state": {
       "layout": "IPY_MODEL_6b13ef73caa54b9891f6c37d7fd14759",
       "style": "IPY_MODEL_2e829bed175042d28f8e648a50a639e8",
       "value": "°C"
      }
     },
     "1f2e0228fb1e4c4fb647de3e446fbf6b": {
      "model_module": "@jupyter-widgets/controls",
      "model_module_version": "1.5.0",
      "model_name": "DescriptionStyleModel",
      "state": {
       "description_width": ""
      }
     },
     "1fbe53eb0bc64941b7133f12116f7871": {
      "model_module": "@jupyter-widgets/controls",
      "model_module_version": "1.5.0",
      "model_name": "HTMLModel",
      "state": {
       "layout": "IPY_MODEL_40c5409d37f741e8a7f1543f82270aaa",
       "style": "IPY_MODEL_0e659a1c747e404ea4650f8106f5e792",
       "value": "room temperature (T_in)"
      }
     },
     "22c74146ccd04c59bc4119ac20408c4c": {
      "model_module": "@jupyter-widgets/base",
      "model_module_version": "1.2.0",
      "model_name": "LayoutModel",
      "state": {
       "width": "100px"
      }
     },
     "233d37bc7e4e413ba2d73e1f172955bb": {
      "model_module": "@jupyter-widgets/controls",
      "model_module_version": "1.5.0",
      "model_name": "VBoxModel",
      "state": {
       "children": [
        "IPY_MODEL_92d7968b9deb4463b5e76eec60f80d55",
        "IPY_MODEL_59329b1e77be4440be232a039021fa83"
       ],
       "layout": "IPY_MODEL_cf653a07ea4b495db11e181628b25575"
      }
     },
     "2340bb7d24f448c3a7402371b85f3d4a": {
      "model_module": "@jupyter-widgets/controls",
      "model_module_version": "1.5.0",
      "model_name": "DescriptionStyleModel",
      "state": {
       "description_width": ""
      }
     },
     "2342de037535415fb329f7e96a46ef0b": {
      "model_module": "@jupyter-widgets/base",
      "model_module_version": "1.2.0",
      "model_name": "LayoutModel",
      "state": {
       "width": "300px"
      }
     },
     "23707883f74e481e9d384064a701af10": {
      "model_module": "@jupyter-widgets/controls",
      "model_module_version": "1.5.0",
      "model_name": "LabelModel",
      "state": {
       "layout": "IPY_MODEL_4c3d90f6c95841909d877e7893feec56",
       "style": "IPY_MODEL_5265ff66556043adb287b9365f78b122",
       "value": "%/s"
      }
     },
     "23bdac415983425ba4cffce8e83c45b7": {
      "model_module": "@jupyter-widgets/controls",
      "model_module_version": "1.5.0",
      "model_name": "HTMLModel",
      "state": {
       "layout": "IPY_MODEL_44b910cf44b9447f96d707dd68982bc4",
       "style": "IPY_MODEL_7386bd6c68884039a16c72969e463063",
       "value": "valve authority"
      }
     },
     "246fd87d342c45108476c9adf970f51d": {
      "model_module": "@jupyter-widgets/controls",
      "model_module_version": "1.5.0",
      "model_name": "LabelModel",
      "state": {
       "layout": "IPY_MODEL_dc3d8e84ea3d47e9a468c3df465a4c7d",
       "style": "IPY_MODEL_64efcdf484184bd5a7925ed0867d89f7",
       "value": "°C"
      }
     },
     "24d1b72fb30f4f9a96d9890f4c6e4fc3": {
      "model_module": "@jupyter-widgets/controls",
      "model_module_version": "1.5.0",
      "model_name": "FloatTextModel",
      "state": {
       "layout": "IPY_MODEL_caac0c3fa4684f4a8c592ab9b0951ba4",
       "step": null,
       "style": "IPY_MODEL_5c6a750607724fba9118c3d3fec3cd8e",
       "value": 3.42e-05
      }
     },
     "26ad801dcec048d7a00a38b48a5930b7": {
      "model_module": "@jupyter-widgets/controls",
      "model_module_version": "1.5.0",
      "model_name": "DescriptionStyleModel",
      "state": {
       "description_width": ""
      }
     },
     "26c780dab11b439b8b62483e502e2b8f": {
      "model_module": "@jupyter-widgets/base",
      "model_module_version": "1.2.0",
      "model_name": "LayoutModel",
      "state": {
       "width": "300px"
      }
     },
     "2947d8587feb4612bf9711edb1cd7139": {
      "model_module": "@jupyter-widgets/base",
      "model_module_version": "1.2.0",
      "model_name": "LayoutModel",
      "state": {
       "width": "100px"
      }
     },
     "294b04e45c764b3fb0f8e43ff7f3eb64": {
      "model_module": "@jupyter-widgets/base",
      "model_module_version": "1.2.0",
      "model_name": "LayoutModel",
      "state": {}
     },
     "2ba8db1a0c734acdadbce6a9f5fc312d": {
      "model_module": "@jupyter-widgets/base",
      "model_module_version": "1.2.0",
      "model_name": "LayoutModel",
      "state": {
       "width": "100px"
      }
     },
     "2bbc08422eaa49b68ca8bfd4f41c3096": {
      "model_module": "@jupyter-widgets/controls",
      "model_module_version": "1.5.0",
      "model_name": "DescriptionStyleModel",
      "state": {
       "description_width": ""
      }
     },
     "2bd1f385f47a477680517a1d2c277d44": {
      "model_module": "@jupyter-widgets/base",
      "model_module_version": "1.2.0",
      "model_name": "LayoutModel",
      "state": {
       "width": "300px"
      }
     },
     "2c3a9d18beff47bb80f92e968eed5a30": {
      "model_module": "@jupyter-widgets/base",
      "model_module_version": "1.2.0",
      "model_name": "LayoutModel",
      "state": {
       "width": "100px"
      }
     },
     "2c5c75159047400783586925dd0076ad": {
      "model_module": "@jupyter-widgets/controls",
      "model_module_version": "1.5.0",
      "model_name": "HBoxModel",
      "state": {
       "children": [
        "IPY_MODEL_4d8e0f5d96b24fa1a0b053e6415d6e8f",
        "IPY_MODEL_fc99b6323e344275b4dbed3207f83008"
       ],
       "layout": "IPY_MODEL_e3c27d42e1a749b19f9dcdeacbb97d84"
      }
     },
     "2e829bed175042d28f8e648a50a639e8": {
      "model_module": "@jupyter-widgets/controls",
      "model_module_version": "1.5.0",
      "model_name": "DescriptionStyleModel",
      "state": {
       "description_width": ""
      }
     },
     "2f71a6310b9d4f36b2ae72b421b75911": {
      "model_module": "@jupyter-widgets/controls",
      "model_module_version": "1.5.0",
      "model_name": "VBoxModel",
      "state": {
       "children": [
        "IPY_MODEL_0814be5fe4b24359926b9564aa4ae2dd",
        "IPY_MODEL_031f729a055544c3b0b8a89ff2d12156",
        "IPY_MODEL_8eb8c4199f644cbd9a6cd685345a3d01",
        "IPY_MODEL_5ef1f8a195834e74a6005df12612a43e",
        "IPY_MODEL_1af0bc34e2754255998614b0e7eb729c",
        "IPY_MODEL_694fb77e5c7545ee8fae6308de06e9c3",
        "IPY_MODEL_1ab9635271654d8a94b5e11e9aa57957",
        "IPY_MODEL_3f0f6ef46ffc47bc9c177eb4242e7eec",
        "IPY_MODEL_579576039c1d4e0badde80b75b4f6874",
        "IPY_MODEL_837d349364f54c2eaca75a258e46e231",
        "IPY_MODEL_e36113ae9d564ba8b49d84c04ba2fde4",
        "IPY_MODEL_d0eb9db9637048cc93b2c7b5beb56630",
        "IPY_MODEL_a83011a874994cc7be5104338c9284e7",
        "IPY_MODEL_cfe23b4d893342cd9b5fff6e04a8ae6a",
        "IPY_MODEL_db6657cc84ae4c9cb3183e0fc4427c1e",
        "IPY_MODEL_a4ea42b150bc4f4786b31f2a5daa9fc5",
        "IPY_MODEL_8097a3d580fa4039bda1cafcfbd2a0d3",
        "IPY_MODEL_d6914a4b7fe349189d744a340890ad6b",
        "IPY_MODEL_fbe21d4fb138458ebdc61c1ca3a8bdbe",
        "IPY_MODEL_833d0c347fa84831870257019dbf4f55",
        "IPY_MODEL_0c00be342af0465ca4973f5bb7693b71",
        "IPY_MODEL_b903ccf0031740e5b1829eb5e09d1e99",
        "IPY_MODEL_32ae2113515746ea89234cac3f112681",
        "IPY_MODEL_2c5c75159047400783586925dd0076ad",
        "IPY_MODEL_f1f3285e888f41a8bff8218da99df380",
        "IPY_MODEL_f7e313b548c0407789f7646a330e958a",
        "IPY_MODEL_6b13da4a8117446fad178354ee47e33c",
        "IPY_MODEL_d4d21d0f9c6b4d8fa79d34ba0832eb0e",
        "IPY_MODEL_8b3bff88337a43d79361bf6a24664596",
        "IPY_MODEL_1a98c51a26a8472a9d3e938f7b569efb"
       ],
       "layout": "IPY_MODEL_f6f3cc87237f4f4b8d26cf84e1e3e2c6"
      }
     },
     "304f7afa165543b3997bf23d6486a222": {
      "model_module": "@jupyter-widgets/controls",
      "model_module_version": "1.5.0",
      "model_name": "LabelModel",
      "state": {
       "layout": "IPY_MODEL_4e59f36e3e444b66bd3b80bf40759192",
       "style": "IPY_MODEL_71543e9760c744738d069857d3233286",
       "value": "s"
      }
     },
     "3132dd2e937544ad939e7dd7228157c1": {
      "model_module": "@jupyter-widgets/base",
      "model_module_version": "1.2.0",
      "model_name": "LayoutModel",
      "state": {}
     },
     "32ae2113515746ea89234cac3f112681": {
      "model_module": "@jupyter-widgets/controls",
      "model_module_version": "1.5.0",
      "model_name": "HBoxModel",
      "state": {
       "children": [
        "IPY_MODEL_23bdac415983425ba4cffce8e83c45b7",
        "IPY_MODEL_cad75fc710ff483787178a2417fda335"
       ],
       "layout": "IPY_MODEL_7486afd921a84052b54ef0e5fa135498"
      }
     },
     "34ed557b77ad4a23a5ae94ea34b63c0b": {
      "model_module": "@jupyter-widgets/base",
      "model_module_version": "1.2.0",
      "model_name": "LayoutModel",
      "state": {}
     },
     "3579a0e0fa504984b3e3b5fe517c1db2": {
      "model_module": "@jupyter-widgets/base",
      "model_module_version": "1.2.0",
      "model_name": "LayoutModel",
      "state": {}
     },
     "38836e3e83f843b8ac958913ed8474d3": {
      "model_module": "@jupyter-widgets/controls",
      "model_module_version": "1.5.0",
      "model_name": "HTMLModel",
      "state": {
       "layout": "IPY_MODEL_e6c3b1df08604f288b9116c64847b877",
       "style": "IPY_MODEL_2340bb7d24f448c3a7402371b85f3d4a",
       "value": "flow rate at full open position"
      }
     },
     "397c0a6501304adab3fe9688e91d9820": {
      "model_module": "@jupyter-widgets/base",
      "model_module_version": "1.2.0",
      "model_name": "LayoutModel",
      "state": {}
     },
     "3d4cc55ade6b432da0d08060d8772189": {
      "model_module": "@jupyter-widgets/controls",
      "model_module_version": "1.5.0",
      "model_name": "DescriptionStyleModel",
      "state": {
       "description_width": ""
      }
     },
     "3e667af3aca547989d39ef9fc809fb77": {
      "model_module": "@jupyter-widgets/controls",
      "model_module_version": "1.5.0",
      "model_name": "LabelModel",
      "state": {
       "layout": "IPY_MODEL_af6c80f7006a48bfbae839a65fb1bdfa",
       "style": "IPY_MODEL_fb46223c2bb14c488de35fcf604ac043",
       "value": "K/W"
      }
     },
     "3f0f6ef46ffc47bc9c177eb4242e7eec": {
      "model_module": "@jupyter-widgets/controls",
      "model_module_version": "1.5.0",
      "model_name": "HBoxModel",
      "state": {
       "children": [
        "IPY_MODEL_0b61eb4595144d508e2cbcb88643a01a",
        "IPY_MODEL_876768d910be45fbbd10e55fa4e0ca90"
       ],
       "layout": "IPY_MODEL_d36e9a5bd00d4749b977a477973194bc"
      }
     },
     "40c5409d37f741e8a7f1543f82270aaa": {
      "model_module": "@jupyter-widgets/base",
      "model_module_version": "1.2.0",
      "model_name": "LayoutModel",
      "state": {
       "width": "300px"
      }
     },
     "40d62487e45446538d2a5fafec2b13f1": {
      "model_module": "@jupyter-widgets/base",
      "model_module_version": "1.2.0",
      "model_name": "LayoutModel",
      "state": {}
     },
     "427dd421c9c047a092f2dfebca45c644": {
      "model_module": "@jupyter-widgets/controls",
      "model_module_version": "1.5.0",
      "model_name": "HTMLModel",
      "state": {
       "layout": "IPY_MODEL_b2bf5140816049babfadc01928b52031",
       "style": "IPY_MODEL_7e9e618682f34c598c5409d181d70137",
       "value": "room envelope effective thermal capacity"
      }
     },
     "42da4ac5199442128f208b41b4b08196": {
      "model_module": "@jupyter-widgets/base",
      "model_module_version": "1.2.0",
      "model_name": "LayoutModel",
      "state": {
       "width": "300px"
      }
     },
     "43f607cddc284a5e8d4834da750df184": {
      "model_module": "@jupyter-widgets/base",
      "model_module_version": "1.2.0",
      "model_name": "LayoutModel",
      "state": {
       "width": "300px"
      }
     },
     "43f94feebbaf447ab5c795a2cfbe764b": {
      "model_module": "@jupyter-widgets/controls",
      "model_module_version": "1.5.0",
      "model_name": "FloatTextModel",
      "state": {
       "layout": "IPY_MODEL_12d8f647f7ef44fdadf6747d6150e0af",
       "step": null,
       "style": "IPY_MODEL_7ea564aea38647c3891a26c367ef20b9",
       "value": 2
      }
     },
     "44b910cf44b9447f96d707dd68982bc4": {
      "model_module": "@jupyter-widgets/base",
      "model_module_version": "1.2.0",
      "model_name": "LayoutModel",
      "state": {
       "width": "300px"
      }
     },
     "45ba61deda924fbf862bbf1c4b9a95d3": {
      "model_module": "@jupyter-widgets/base",
      "model_module_version": "1.2.0",
      "model_name": "LayoutModel",
      "state": {}
     },
     "470532ceacbc414cbd3ab02b4b28c5b1": {
      "model_module": "@jupyter-widgets/base",
      "model_module_version": "1.2.0",
      "model_name": "LayoutModel",
      "state": {
       "width": "300px"
      }
     },
     "4757f9c6ae6442228eeafb5cf8a0be0b": {
      "model_module": "@jupyter-widgets/controls",
      "model_module_version": "1.5.0",
      "model_name": "LabelModel",
      "state": {
       "layout": "IPY_MODEL_b18569e47ef447e0a67f917757070113",
       "style": "IPY_MODEL_108d130633a64d66aab502fca852ad74",
       "value": "°C"
      }
     },
     "4af5b85ff2b843aeb48f6d15ce52c270": {
      "model_module": "@jupyter-widgets/controls",
      "model_module_version": "1.5.0",
      "model_name": "DescriptionStyleModel",
      "state": {
       "description_width": ""
      }
     },
     "4b832f8c2e15426dbb297164a7163ad5": {
      "model_module": "@jupyter-widgets/base",
      "model_module_version": "1.2.0",
      "model_name": "LayoutModel",
      "state": {
       "width": "100px"
      }
     },
     "4bc210fda9c447d78335da92960b5a65": {
      "model_module": "@jupyter-widgets/base",
      "model_module_version": "1.2.0",
      "model_name": "LayoutModel",
      "state": {}
     },
     "4c3d90f6c95841909d877e7893feec56": {
      "model_module": "@jupyter-widgets/base",
      "model_module_version": "1.2.0",
      "model_name": "LayoutModel",
      "state": {}
     },
     "4d8e0f5d96b24fa1a0b053e6415d6e8f": {
      "model_module": "@jupyter-widgets/controls",
      "model_module_version": "1.5.0",
      "model_name": "HTMLModel",
      "state": {
       "layout": "IPY_MODEL_2bd1f385f47a477680517a1d2c277d44",
       "style": "IPY_MODEL_58f07aad219c47848b4897b1ee181ab7",
       "value": "inherent rangeability"
      }
     },
     "4dfa2b690c774f5fbdeda02b7da63ebd": {
      "model_module": "@jupyter-widgets/controls",
      "model_module_version": "1.5.0",
      "model_name": "LabelModel",
      "state": {
       "layout": "IPY_MODEL_cb501c2fddba45ad89b1bd151f8eee89",
       "style": "IPY_MODEL_e6f164b222c3432c8b0c2ba00d5b2d6d",
       "value": "K"
      }
     },
     "4dfa688aff174bf2b782de345f93af8e": {
      "model_module": "@jupyter-widgets/output",
      "model_module_version": "1.0.0",
      "model_name": "OutputModel",
      "state": {
       "layout": "IPY_MODEL_ff0d9f8fb0434d2ebddf096682796cd3",
       "outputs": [
        {
         "data": {
          "image/png": "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\n",
          "text/plain": "<Figure size 768x1152 with 3 Axes>"
         },
         "metadata": {
          "needs_background": "light"
         },
         "output_type": "display_data"
        }
       ]
      }
     },
     "4e59f36e3e444b66bd3b80bf40759192": {
      "model_module": "@jupyter-widgets/base",
      "model_module_version": "1.2.0",
      "model_name": "LayoutModel",
      "state": {}
     },
     "4e7af713d2504c18b1f9aeccf33fc0b1": {
      "model_module": "@jupyter-widgets/controls",
      "model_module_version": "1.5.0",
      "model_name": "LabelModel",
      "state": {
       "layout": "IPY_MODEL_34ed557b77ad4a23a5ae94ea34b63c0b",
       "style": "IPY_MODEL_1f2e0228fb1e4c4fb647de3e446fbf6b",
       "value": "K"
      }
     },
     "4ee79d3890014f91865ba075e0d8cdbb": {
      "model_module": "@jupyter-widgets/controls",
      "model_module_version": "1.5.0",
      "model_name": "HTMLModel",
      "state": {
       "layout": "IPY_MODEL_470532ceacbc414cbd3ab02b4b28c5b1",
       "style": "IPY_MODEL_8522b66a884d474d90f7fdc4cf20b037",
       "value": "<b>Control valve</b>"
      }
     },
     "4efe3847dcc94a149e3781f5110db09f": {
      "model_module": "@jupyter-widgets/controls",
      "model_module_version": "1.5.0",
      "model_name": "HTMLModel",
      "state": {
       "layout": "IPY_MODEL_43f607cddc284a5e8d4834da750df184",
       "style": "IPY_MODEL_9f54d6d0beb54ae09fd0e3ba9623a26b",
       "value": "<b>Valve motor</b>"
      }
     },
     "4fbcde0580df4e258ff810c4dd1dd8d9": {
      "model_module": "@jupyter-widgets/base",
      "model_module_version": "1.2.0",
      "model_name": "LayoutModel",
      "state": {
       "width": "300px"
      }
     },
     "51ab9fd88b7f448eb1aa103949fc1703": {
      "model_module": "@jupyter-widgets/base",
      "model_module_version": "1.2.0",
      "model_name": "LayoutModel",
      "state": {}
     },
     "5265ff66556043adb287b9365f78b122": {
      "model_module": "@jupyter-widgets/controls",
      "model_module_version": "1.5.0",
      "model_name": "DescriptionStyleModel",
      "state": {
       "description_width": ""
      }
     },
     "52fede8d0269448db7b4d4c154b1be48": {
      "model_module": "@jupyter-widgets/controls",
      "model_module_version": "1.5.0",
      "model_name": "FloatTextModel",
      "state": {
       "layout": "IPY_MODEL_f8e62c0ea47c4b6da3f1a50e3fb94df9",
       "step": null,
       "style": "IPY_MODEL_7075b934f1c1446b8caf991b7ea57092",
       "value": 0.5
      }
     },
     "531c26edc36848bba3a4d33565421dac": {
      "model_module": "@jupyter-widgets/base",
      "model_module_version": "1.2.0",
      "model_name": "LayoutModel",
      "state": {}
     },
     "53b0976bfc9d49eb904f35c8d53db13c": {
      "model_module": "@jupyter-widgets/controls",
      "model_module_version": "1.5.0",
      "model_name": "DescriptionStyleModel",
      "state": {
       "description_width": ""
      }
     },
     "53c0f1d7a17c44af8d3951f0a56eeb94": {
      "model_module": "@jupyter-widgets/controls",
      "model_module_version": "1.5.0",
      "model_name": "DescriptionStyleModel",
      "state": {
       "description_width": ""
      }
     },
     "579576039c1d4e0badde80b75b4f6874": {
      "model_module": "@jupyter-widgets/controls",
      "model_module_version": "1.5.0",
      "model_name": "HBoxModel",
      "state": {
       "children": [
        "IPY_MODEL_bd16505befbc41009741cec768485229"
       ],
       "layout": "IPY_MODEL_81d37ea55ba348ec957be61ace47b0d6"
      }
     },
     "58f07aad219c47848b4897b1ee181ab7": {
      "model_module": "@jupyter-widgets/controls",
      "model_module_version": "1.5.0",
      "model_name": "DescriptionStyleModel",
      "state": {
       "description_width": ""
      }
     },
     "59329b1e77be4440be232a039021fa83": {
      "model_module": "@jupyter-widgets/controls",
      "model_module_version": "1.5.0",
      "model_name": "ButtonModel",
      "state": {
       "description": "submit",
       "layout": "IPY_MODEL_e453e920d47a49298c6dad9d1be5cf17",
       "style": "IPY_MODEL_ee75e29dda404b1083be622935c7f151"
      }
     },
     "594374c1db7d4acc9a14837d58711330": {
      "model_module": "@jupyter-widgets/base",
      "model_module_version": "1.2.0",
      "model_name": "LayoutModel",
      "state": {
       "width": "300px"
      }
     },
     "59eba615c9a744e298aa07638f2edcec": {
      "model_module": "@jupyter-widgets/controls",
      "model_module_version": "1.5.0",
      "model_name": "DescriptionStyleModel",
      "state": {
       "description_width": ""
      }
     },
     "5a1d41a1338341f59bcd92ada1347517": {
      "model_module": "@jupyter-widgets/controls",
      "model_module_version": "1.5.0",
      "model_name": "HTMLModel",
      "state": {
       "layout": "IPY_MODEL_c5d6b82107df41c297c2f82d13a60849",
       "style": "IPY_MODEL_d9dfe0319e1d4e2a90273a326d857360",
       "value": "<b>Outdoor reset line (<code>T_we = c0 + c1 * T_out</code>)</b>"
      }
     },
     "5bc32f7792344010bfc180cde2087034": {
      "model_module": "@jupyter-widgets/controls",
      "model_module_version": "1.5.0",
      "model_name": "HTMLModel",
      "state": {
       "layout": "IPY_MODEL_b18985bc33ef4c1d95ca26513c72723b",
       "style": "IPY_MODEL_a85ce5914dc7458a91080e0b1e3a0254",
       "value": "room envelope thermal resistance"
      }
     },
     "5c0a4b7652cd4a92bc600c50ea90e012": {
      "model_module": "@jupyter-widgets/controls",
      "model_module_version": "1.5.0",
      "model_name": "HTMLModel",
      "state": {
       "layout": "IPY_MODEL_91f1524e22134378b21b08183e611948",
       "style": "IPY_MODEL_0971f27666ba49a3bfaa62410b0ac443",
       "value": "<b>Measuring sensor</b>"
      }
     },
     "5c6a750607724fba9118c3d3fec3cd8e": {
      "model_module": "@jupyter-widgets/controls",
      "model_module_version": "1.5.0",
      "model_name": "DescriptionStyleModel",
      "state": {
       "description_width": ""
      }
     },
     "5dbfaa29a91141509b59baea19b76d7e": {
      "model_module": "@jupyter-widgets/controls",
      "model_module_version": "1.5.0",
      "model_name": "DescriptionStyleModel",
      "state": {
       "description_width": ""
      }
     },
     "5ef1f8a195834e74a6005df12612a43e": {
      "model_module": "@jupyter-widgets/controls",
      "model_module_version": "1.5.0",
      "model_name": "HBoxModel",
      "state": {
       "children": [
        "IPY_MODEL_1016978c1756481797dd3bb49ea10ea7",
        "IPY_MODEL_0e50bffdede24a839e1625782d252003",
        "IPY_MODEL_a19685f3a5d146c8a2f0bb117a699ce6"
       ],
       "layout": "IPY_MODEL_6211b5140f5f4904bd5a7e78d4371968"
      }
     },
     "6211b5140f5f4904bd5a7e78d4371968": {
      "model_module": "@jupyter-widgets/base",
      "model_module_version": "1.2.0",
      "model_name": "LayoutModel",
      "state": {}
     },
     "63d56d0d10fd45d4af007150080aa8e7": {
      "model_module": "@jupyter-widgets/controls",
      "model_module_version": "1.5.0",
      "model_name": "DescriptionStyleModel",
      "state": {
       "description_width": ""
      }
     },
     "64027d1793bc4471bbf9e17038b135ed": {
      "model_module": "@jupyter-widgets/base",
      "model_module_version": "1.2.0",
      "model_name": "LayoutModel",
      "state": {
       "width": "300px"
      }
     },
     "64efcdf484184bd5a7925ed0867d89f7": {
      "model_module": "@jupyter-widgets/controls",
      "model_module_version": "1.5.0",
      "model_name": "DescriptionStyleModel",
      "state": {
       "description_width": ""
      }
     },
     "6573454972244c8d8aa68e8d15e1435e": {
      "model_module": "@jupyter-widgets/controls",
      "model_module_version": "1.5.0",
      "model_name": "FloatTextModel",
      "state": {
       "layout": "IPY_MODEL_22c74146ccd04c59bc4119ac20408c4c",
       "step": null,
       "style": "IPY_MODEL_bb8d8f29d1e24b1986fc849496064638",
       "value": -1.568
      }
     },
     "67494d4494904fc2b17c240eee58373b": {
      "model_module": "@jupyter-widgets/base",
      "model_module_version": "1.2.0",
      "model_name": "LayoutModel",
      "state": {}
     },
     "676547296f304e0182e6e435992337ed": {
      "model_module": "@jupyter-widgets/controls",
      "model_module_version": "1.5.0",
      "model_name": "DescriptionStyleModel",
      "state": {
       "description_width": ""
      }
     },
     "67a96d5e2490415d8cab24ccf74bd8e9": {
      "model_module": "@jupyter-widgets/base",
      "model_module_version": "1.2.0",
      "model_name": "LayoutModel",
      "state": {
       "width": "300px"
      }
     },
     "68b0182baadf4ef3873a8634491b4c2a": {
      "model_module": "@jupyter-widgets/controls",
      "model_module_version": "1.5.0",
      "model_name": "FloatTextModel",
      "state": {
       "layout": "IPY_MODEL_bb5b4260ed3647b5a03ec2ba7baf304d",
       "step": null,
       "style": "IPY_MODEL_53c0f1d7a17c44af8d3951f0a56eeb94",
       "value": -1
      }
     },
     "694fb77e5c7545ee8fae6308de06e9c3": {
      "model_module": "@jupyter-widgets/controls",
      "model_module_version": "1.5.0",
      "model_name": "HBoxModel",
      "state": {
       "children": [
        "IPY_MODEL_a8541e7409d44d928d274009e4c8a63f",
        "IPY_MODEL_f4ddde7eff2746b3b7b0422dada30431",
        "IPY_MODEL_f8020aeb21064cd6abf9183cce0c7aa9"
       ],
       "layout": "IPY_MODEL_b98b911442a8433eb245ef418b498464"
      }
     },
     "6aefdd7b8de44dcca5d3bee0777d8ed2": {
      "model_module": "@jupyter-widgets/controls",
      "model_module_version": "1.5.0",
      "model_name": "HTMLModel",
      "state": {
       "layout": "IPY_MODEL_bf1f3ad62a254c538d36f7dce14ef2d2",
       "style": "IPY_MODEL_dcd4c35e13ea4b539a78ac79a3d84a6b",
       "value": "constant term c0"
      }
     },
     "6b13da4a8117446fad178354ee47e33c": {
      "model_module": "@jupyter-widgets/controls",
      "model_module_version": "1.5.0",
      "model_name": "HBoxModel",
      "state": {
       "children": [
        "IPY_MODEL_ceaac81eaaa348d1a79b40dbca3d0c53",
        "IPY_MODEL_dcac8c87caf84d57952d7ba358a4c13a",
        "IPY_MODEL_246fd87d342c45108476c9adf970f51d"
       ],
       "layout": "IPY_MODEL_67494d4494904fc2b17c240eee58373b"
      }
     },
     "6b13ef73caa54b9891f6c37d7fd14759": {
      "model_module": "@jupyter-widgets/base",
      "model_module_version": "1.2.0",
      "model_name": "LayoutModel",
      "state": {}
     },
     "6b3cfbdc7a5a493084faad5c05206f69": {
      "model_module": "@jupyter-widgets/base",
      "model_module_version": "1.2.0",
      "model_name": "LayoutModel",
      "state": {}
     },
     "6b4ca344d1c04adaba404e78e17a107a": {
      "model_module": "@jupyter-widgets/controls",
      "model_module_version": "1.5.0",
      "model_name": "DescriptionStyleModel",
      "state": {
       "description_width": ""
      }
     },
     "6c0780b11226436ea0d4ad2001d22828": {
      "model_module": "@jupyter-widgets/controls",
      "model_module_version": "1.5.0",
      "model_name": "FloatTextModel",
      "state": {
       "layout": "IPY_MODEL_fa8a28343d7c4e528edede1815bf9ebd",
       "step": null,
       "style": "IPY_MODEL_59eba615c9a744e298aa07638f2edcec",
       "value": 20
      }
     },
     "700818e288ff437eb664d9f3e619f07c": {
      "model_module": "@jupyter-widgets/base",
      "model_module_version": "1.2.0",
      "model_name": "LayoutModel",
      "state": {}
     },
     "7075b934f1c1446b8caf991b7ea57092": {
      "model_module": "@jupyter-widgets/controls",
      "model_module_version": "1.5.0",
      "model_name": "DescriptionStyleModel",
      "state": {
       "description_width": ""
      }
     },
     "71543e9760c744738d069857d3233286": {
      "model_module": "@jupyter-widgets/controls",
      "model_module_version": "1.5.0",
      "model_name": "DescriptionStyleModel",
      "state": {
       "description_width": ""
      }
     },
     "731ced2457fa46298b67cba872da8d2a": {
      "model_module": "@jupyter-widgets/controls",
      "model_module_version": "1.5.0",
      "model_name": "DescriptionStyleModel",
      "state": {
       "description_width": ""
      }
     },
     "7386bd6c68884039a16c72969e463063": {
      "model_module": "@jupyter-widgets/controls",
      "model_module_version": "1.5.0",
      "model_name": "DescriptionStyleModel",
      "state": {
       "description_width": ""
      }
     },
     "7486afd921a84052b54ef0e5fa135498": {
      "model_module": "@jupyter-widgets/base",
      "model_module_version": "1.2.0",
      "model_name": "LayoutModel",
      "state": {}
     },
     "773aeaf7c5ad473fae49c4cd9ef41e3b": {
      "model_module": "@jupyter-widgets/base",
      "model_module_version": "1.2.0",
      "model_name": "LayoutModel",
      "state": {}
     },
     "773d97b4fb084e34ba4050fb923b6e9a": {
      "model_module": "@jupyter-widgets/base",
      "model_module_version": "1.2.0",
      "model_name": "LayoutModel",
      "state": {}
     },
     "77e63fab969c477e8e3d841ce559a2d8": {
      "model_module": "@jupyter-widgets/base",
      "model_module_version": "1.2.0",
      "model_name": "LayoutModel",
      "state": {}
     },
     "7a4a6170d93d4b9cb4e233be51d8cc7a": {
      "model_module": "@jupyter-widgets/base",
      "model_module_version": "1.2.0",
      "model_name": "LayoutModel",
      "state": {
       "width": "300px"
      }
     },
     "7abb89ff9d424879a360c7a5717e689a": {
      "model_module": "@jupyter-widgets/base",
      "model_module_version": "1.2.0",
      "model_name": "LayoutModel",
      "state": {}
     },
     "7b09400aaa0841bdbd537e9df4f9be97": {
      "model_module": "@jupyter-widgets/controls",
      "model_module_version": "1.5.0",
      "model_name": "DescriptionStyleModel",
      "state": {
       "description_width": ""
      }
     },
     "7c552db580ef42979de5f36848d159e9": {
      "model_module": "@jupyter-widgets/controls",
      "model_module_version": "1.5.0",
      "model_name": "DescriptionStyleModel",
      "state": {
       "description_width": ""
      }
     },
     "7e9e618682f34c598c5409d181d70137": {
      "model_module": "@jupyter-widgets/controls",
      "model_module_version": "1.5.0",
      "model_name": "DescriptionStyleModel",
      "state": {
       "description_width": ""
      }
     },
     "7ea564aea38647c3891a26c367ef20b9": {
      "model_module": "@jupyter-widgets/controls",
      "model_module_version": "1.5.0",
      "model_name": "DescriptionStyleModel",
      "state": {
       "description_width": ""
      }
     },
     "7fbbb0c4fd3448be994b708a03397b4d": {
      "model_module": "@jupyter-widgets/controls",
      "model_module_version": "1.5.0",
      "model_name": "DescriptionStyleModel",
      "state": {
       "description_width": ""
      }
     },
     "7fc877b4c02a4a69b06c02161fe61e22": {
      "model_module": "@jupyter-widgets/controls",
      "model_module_version": "1.5.0",
      "model_name": "HTMLModel",
      "state": {
       "layout": "IPY_MODEL_bc6b7adf75ab466491aaa0c164b254a9",
       "style": "IPY_MODEL_a09d6fcbf5b34d2398074a0a736f9d08",
       "value": "delay time"
      }
     },
     "8073340c13d0454dabb4027f2b199d42": {
      "model_module": "@jupyter-widgets/base",
      "model_module_version": "1.2.0",
      "model_name": "LayoutModel",
      "state": {}
     },
     "809054abde3a45a5a1b495a461c31731": {
      "model_module": "@jupyter-widgets/base",
      "model_module_version": "1.2.0",
      "model_name": "LayoutModel",
      "state": {}
     },
     "8097a3d580fa4039bda1cafcfbd2a0d3": {
      "model_module": "@jupyter-widgets/controls",
      "model_module_version": "1.5.0",
      "model_name": "HBoxModel",
      "state": {
       "children": [
        "IPY_MODEL_5a1d41a1338341f59bcd92ada1347517"
       ],
       "layout": "IPY_MODEL_773aeaf7c5ad473fae49c4cd9ef41e3b"
      }
     },
     "81d37ea55ba348ec957be61ace47b0d6": {
      "model_module": "@jupyter-widgets/base",
      "model_module_version": "1.2.0",
      "model_name": "LayoutModel",
      "state": {}
     },
     "82a547dd3560458a9bfa0f518f6cf40f": {
      "model_module": "@jupyter-widgets/controls",
      "model_module_version": "1.5.0",
      "model_name": "DescriptionStyleModel",
      "state": {
       "description_width": ""
      }
     },
     "833d0c347fa84831870257019dbf4f55": {
      "model_module": "@jupyter-widgets/controls",
      "model_module_version": "1.5.0",
      "model_name": "HBoxModel",
      "state": {
       "children": [
        "IPY_MODEL_4efe3847dcc94a149e3781f5110db09f"
       ],
       "layout": "IPY_MODEL_ce0ded3dbdb843429cf5b5261607e2ba"
      }
     },
     "837d349364f54c2eaca75a258e46e231": {
      "model_module": "@jupyter-widgets/controls",
      "model_module_version": "1.5.0",
      "model_name": "HBoxModel",
      "state": {
       "children": [
        "IPY_MODEL_5bc32f7792344010bfc180cde2087034",
        "IPY_MODEL_f0240b3a6e0c4976a0794a7c19bb1c7b",
        "IPY_MODEL_3e667af3aca547989d39ef9fc809fb77"
       ],
       "layout": "IPY_MODEL_531c26edc36848bba3a4d33565421dac"
      }
     },
     "846f3e23150c4b7184d35a661b7874b6": {
      "model_module": "@jupyter-widgets/base",
      "model_module_version": "1.2.0",
      "model_name": "LayoutModel",
      "state": {
       "width": "100px"
      }
     },
     "8522b66a884d474d90f7fdc4cf20b037": {
      "model_module": "@jupyter-widgets/controls",
      "model_module_version": "1.5.0",
      "model_name": "DescriptionStyleModel",
      "state": {
       "description_width": ""
      }
     },
     "85db9ebea003448bb37f3248b98b4610": {
      "model_module": "@jupyter-widgets/base",
      "model_module_version": "1.2.0",
      "model_name": "LayoutModel",
      "state": {
       "justify_content": "flex-start"
      }
     },
     "8710bd5ac0b142b9b6a5204e48dc87ef": {
      "model_module": "@jupyter-widgets/base",
      "model_module_version": "1.2.0",
      "model_name": "LayoutModel",
      "state": {
       "width": "100px"
      }
     },
     "876768d910be45fbbd10e55fa4e0ca90": {
      "model_module": "@jupyter-widgets/controls",
      "model_module_version": "1.5.0",
      "model_name": "FloatTextModel",
      "state": {
       "layout": "IPY_MODEL_d6e68e1d9d0e4e89aeebd22d14482f7c",
       "step": null,
       "style": "IPY_MODEL_7fbbb0c4fd3448be994b708a03397b4d",
       "value": 1.3279
      }
     },
     "87d55db9bf814d93b0ad10314807f547": {
      "model_module": "@jupyter-widgets/controls",
      "model_module_version": "1.5.0",
      "model_name": "DescriptionStyleModel",
      "state": {
       "description_width": ""
      }
     },
     "8a0dc4b4ea054910ad8af6c7b17d5cd2": {
      "model_module": "@jupyter-widgets/controls",
      "model_module_version": "1.5.0",
      "model_name": "HTMLModel",
      "state": {
       "layout": "IPY_MODEL_42da4ac5199442128f208b41b4b08196",
       "style": "IPY_MODEL_87d55db9bf814d93b0ad10314807f547",
       "value": "high dead band limit"
      }
     },
     "8b3bff88337a43d79361bf6a24664596": {
      "model_module": "@jupyter-widgets/controls",
      "model_module_version": "1.5.0",
      "model_name": "HBoxModel",
      "state": {
       "children": [
        "IPY_MODEL_5c0a4b7652cd4a92bc600c50ea90e012"
       ],
       "layout": "IPY_MODEL_14ede879ec8347dbafadebca44db9389"
      }
     },
     "8b6cc512a7e440cb9092c24a6a352104": {
      "model_module": "@jupyter-widgets/base",
      "model_module_version": "1.2.0",
      "model_name": "LayoutModel",
      "state": {
       "width": "100px"
      }
     },
     "8b889c779b70414bb0129b53479a1c68": {
      "model_module": "@jupyter-widgets/controls",
      "model_module_version": "1.5.0",
      "model_name": "DescriptionStyleModel",
      "state": {
       "description_width": ""
      }
     },
     "8ba7ceae1861431f9689cea332db6450": {
      "model_module": "@jupyter-widgets/base",
      "model_module_version": "1.2.0",
      "model_name": "LayoutModel",
      "state": {}
     },
     "8bba23ede2f049c280a2f7329d0f8f28": {
      "model_module": "@jupyter-widgets/controls",
      "model_module_version": "1.5.0",
      "model_name": "DescriptionStyleModel",
      "state": {
       "description_width": ""
      }
     },
     "8e1c12744a284504a8faf1e360b16fa6": {
      "model_module": "@jupyter-widgets/controls",
      "model_module_version": "1.5.0",
      "model_name": "DescriptionStyleModel",
      "state": {
       "description_width": ""
      }
     },
     "8eb8c4199f644cbd9a6cd685345a3d01": {
      "model_module": "@jupyter-widgets/controls",
      "model_module_version": "1.5.0",
      "model_name": "HBoxModel",
      "state": {
       "children": [
        "IPY_MODEL_a5361aa4ae5f4b7094ca72acbc2d6e96"
       ],
       "layout": "IPY_MODEL_294b04e45c764b3fb0f8e43ff7f3eb64"
      }
     },
     "91118c345de148b4a397e4ed6d41a2a3": {
      "model_module": "@jupyter-widgets/base",
      "model_module_version": "1.2.0",
      "model_name": "LayoutModel",
      "state": {
       "width": "300px"
      }
     },
     "91f1524e22134378b21b08183e611948": {
      "model_module": "@jupyter-widgets/base",
      "model_module_version": "1.2.0",
      "model_name": "LayoutModel",
      "state": {
       "width": "300px"
      }
     },
     "92a5c44a3476489ea77a68cd0af8b50d": {
      "model_module": "@jupyter-widgets/controls",
      "model_module_version": "1.5.0",
      "model_name": "HTMLModel",
      "state": {
       "layout": "IPY_MODEL_26c780dab11b439b8b62483e502e2b8f",
       "style": "IPY_MODEL_e645b3a154504f5abe0e5b732cb4a4ae",
       "value": "slope c1"
      }
     },
     "92d7968b9deb4463b5e76eec60f80d55": {
      "model_module": "@jupyter-widgets/controls",
      "model_module_version": "1.5.0",
      "model_name": "CheckboxModel",
      "state": {
       "description": "outdoor reset active",
       "disabled": false,
       "indent": false,
       "layout": "IPY_MODEL_809054abde3a45a5a1b495a461c31731",
       "style": "IPY_MODEL_8e1c12744a284504a8faf1e360b16fa6",
       "value": true
      }
     },
     "9513adad55124539820d5e5134c02289": {
      "model_module": "@jupyter-widgets/controls",
      "model_module_version": "1.5.0",
      "model_name": "DescriptionStyleModel",
      "state": {
       "description_width": ""
      }
     },
     "9605ce531a3349d88af767ff135dcad6": {
      "model_module": "@jupyter-widgets/base",
      "model_module_version": "1.2.0",
      "model_name": "LayoutModel",
      "state": {}
     },
     "9f54d6d0beb54ae09fd0e3ba9623a26b": {
      "model_module": "@jupyter-widgets/controls",
      "model_module_version": "1.5.0",
      "model_name": "DescriptionStyleModel",
      "state": {
       "description_width": ""
      }
     },
     "a09d6fcbf5b34d2398074a0a736f9d08": {
      "model_module": "@jupyter-widgets/controls",
      "model_module_version": "1.5.0",
      "model_name": "DescriptionStyleModel",
      "state": {
       "description_width": ""
      }
     },
     "a19685f3a5d146c8a2f0bb117a699ce6": {
      "model_module": "@jupyter-widgets/controls",
      "model_module_version": "1.5.0",
      "model_name": "LabelModel",
      "state": {
       "layout": "IPY_MODEL_4bc210fda9c447d78335da92960b5a65",
       "style": "IPY_MODEL_b63f14b4990f42a9881b1d43bcdfd615",
       "value": "W"
      }
     },
     "a1ad2249bc5244639a305e8829bc1b19": {
      "model_module": "@jupyter-widgets/controls",
      "model_module_version": "1.5.0",
      "model_name": "FloatTextModel",
      "state": {
       "layout": "IPY_MODEL_8710bd5ac0b142b9b6a5204e48dc87ef",
       "step": null,
       "style": "IPY_MODEL_f5e5d57b2f3948e8a90d9771b8873184",
       "value": 22
      }
     },
     "a4ea42b150bc4f4786b31f2a5daa9fc5": {
      "model_module": "@jupyter-widgets/controls",
      "model_module_version": "1.5.0",
      "model_name": "HBoxModel",
      "state": {
       "children": [
        "IPY_MODEL_e4a1b72a449f47b9978cd079fb5dddf2",
        "IPY_MODEL_68b0182baadf4ef3873a8634491b4c2a",
        "IPY_MODEL_07a8ab291bd94c698953ca750126949c"
       ],
       "layout": "IPY_MODEL_f68f826d9a924f2b977de7dfc8e2ab9a"
      }
     },
     "a5361aa4ae5f4b7094ca72acbc2d6e96": {
      "model_module": "@jupyter-widgets/controls",
      "model_module_version": "1.5.0",
      "model_name": "HTMLModel",
      "state": {
       "layout": "IPY_MODEL_fea07ab2991546b683c327f97644902f",
       "style": "IPY_MODEL_cf1e2d11d30c4f1fb8d2f3352087912b",
       "value": "<b>Radiator nominal specifications</b>"
      }
     },
     "a7b41037ea4444c08c484d322310ce12": {
      "model_module": "@jupyter-widgets/controls",
      "model_module_version": "1.5.0",
      "model_name": "HTMLModel",
      "state": {
       "layout": "IPY_MODEL_594374c1db7d4acc9a14837d58711330",
       "style": "IPY_MODEL_d22cf92d4fdb4256b8cafc7326d09ac6",
       "value": "dt"
      }
     },
     "a83011a874994cc7be5104338c9284e7": {
      "model_module": "@jupyter-widgets/controls",
      "model_module_version": "1.5.0",
      "model_name": "HBoxModel",
      "state": {
       "children": [
        "IPY_MODEL_0b2984b3585f4a49beb9d052d54f2b2a"
       ],
       "layout": "IPY_MODEL_dee105aeb789476098f11f027e3b4cde"
      }
     },
     "a8541e7409d44d928d274009e4c8a63f": {
      "model_module": "@jupyter-widgets/controls",
      "model_module_version": "1.5.0",
      "model_name": "HTMLModel",
      "state": {
       "layout": "IPY_MODEL_64027d1793bc4471bbf9e17038b135ed",
       "style": "IPY_MODEL_3d4cc55ade6b432da0d08060d8772189",
       "value": "water leaving temperature"
      }
     },
     "a85ce5914dc7458a91080e0b1e3a0254": {
      "model_module": "@jupyter-widgets/controls",
      "model_module_version": "1.5.0",
      "model_name": "DescriptionStyleModel",
      "state": {
       "description_width": ""
      }
     },
     "ae6652e2fc4a42ae8f3902326ec3ce84": {
      "model_module": "@jupyter-widgets/controls",
      "model_module_version": "1.5.0",
      "model_name": "DescriptionStyleModel",
      "state": {
       "description_width": ""
      }
     },
     "ae6c488ca53143b488d774b0a197a3f1": {
      "model_module": "@jupyter-widgets/base",
      "model_module_version": "1.2.0",
      "model_name": "LayoutModel",
      "state": {}
     },
     "af6c80f7006a48bfbae839a65fb1bdfa": {
      "model_module": "@jupyter-widgets/base",
      "model_module_version": "1.2.0",
      "model_name": "LayoutModel",
      "state": {}
     },
     "b18569e47ef447e0a67f917757070113": {
      "model_module": "@jupyter-widgets/base",
      "model_module_version": "1.2.0",
      "model_name": "LayoutModel",
      "state": {}
     },
     "b18985bc33ef4c1d95ca26513c72723b": {
      "model_module": "@jupyter-widgets/base",
      "model_module_version": "1.2.0",
      "model_name": "LayoutModel",
      "state": {
       "width": "300px"
      }
     },
     "b2bf5140816049babfadc01928b52031": {
      "model_module": "@jupyter-widgets/base",
      "model_module_version": "1.2.0",
      "model_name": "LayoutModel",
      "state": {
       "width": "300px"
      }
     },
     "b3fec0f4ef924bffab46cd7e18057664": {
      "model_module": "@jupyter-widgets/controls",
      "model_module_version": "1.5.0",
      "model_name": "DescriptionStyleModel",
      "state": {
       "description_width": ""
      }
     },
     "b401fdd688074852ab267a91162051b2": {
      "model_module": "@jupyter-widgets/base",
      "model_module_version": "1.2.0",
      "model_name": "LayoutModel",
      "state": {
       "width": "300px"
      }
     },
     "b4d97493095743c09025082ecd6c4fc0": {
      "model_module": "@jupyter-widgets/controls",
      "model_module_version": "1.5.0",
      "model_name": "DescriptionStyleModel",
      "state": {
       "description_width": ""
      }
     },
     "b5a571c2ff05454cbc20875e6bb25a21": {
      "model_module": "@jupyter-widgets/controls",
      "model_module_version": "1.5.0",
      "model_name": "FloatTextModel",
      "state": {
       "layout": "IPY_MODEL_f51c59d998084a6fba327c92c37d3105",
       "step": null,
       "style": "IPY_MODEL_ae6652e2fc4a42ae8f3902326ec3ce84",
       "value": 5
      }
     },
     "b63f14b4990f42a9881b1d43bcdfd615": {
      "model_module": "@jupyter-widgets/controls",
      "model_module_version": "1.5.0",
      "model_name": "DescriptionStyleModel",
      "state": {
       "description_width": ""
      }
     },
     "b6b162211f8c4a50af7e089ef20263a3": {
      "model_module": "@jupyter-widgets/controls",
      "model_module_version": "1.5.0",
      "model_name": "DescriptionStyleModel",
      "state": {
       "description_width": ""
      }
     },
     "b8279ff680814007bf5b2021cb83de7c": {
      "model_module": "@jupyter-widgets/controls",
      "model_module_version": "1.5.0",
      "model_name": "DescriptionStyleModel",
      "state": {
       "description_width": ""
      }
     },
     "b903ccf0031740e5b1829eb5e09d1e99": {
      "model_module": "@jupyter-widgets/controls",
      "model_module_version": "1.5.0",
      "model_name": "HBoxModel",
      "state": {
       "children": [
        "IPY_MODEL_4ee79d3890014f91865ba075e0d8cdbb"
       ],
       "layout": "IPY_MODEL_7abb89ff9d424879a360c7a5717e689a"
      }
     },
     "b9629ed9f18145e88e8b1dab91c415db": {
      "model_module": "@jupyter-widgets/controls",
      "model_module_version": "1.5.0",
      "model_name": "HTMLModel",
      "state": {
       "layout": "IPY_MODEL_ec843df9cae340d08b4e99bcca84f054",
       "style": "IPY_MODEL_d0bcb28f1c0649fbbe28e389ea84fbca",
       "value": "room air thermal capacity"
      }
     },
     "b98b911442a8433eb245ef418b498464": {
      "model_module": "@jupyter-widgets/base",
      "model_module_version": "1.2.0",
      "model_name": "LayoutModel",
      "state": {}
     },
     "bb53c31b46f14d4abad1734bf96cda30": {
      "model_module": "@jupyter-widgets/controls",
      "model_module_version": "1.5.0",
      "model_name": "DescriptionStyleModel",
      "state": {
       "description_width": ""
      }
     },
     "bb5b4260ed3647b5a03ec2ba7baf304d": {
      "model_module": "@jupyter-widgets/base",
      "model_module_version": "1.2.0",
      "model_name": "LayoutModel",
      "state": {
       "width": "100px"
      }
     },
     "bb8d8f29d1e24b1986fc849496064638": {
      "model_module": "@jupyter-widgets/controls",
      "model_module_version": "1.5.0",
      "model_name": "DescriptionStyleModel",
      "state": {
       "description_width": ""
      }
     },
     "bc6b7adf75ab466491aaa0c164b254a9": {
      "model_module": "@jupyter-widgets/base",
      "model_module_version": "1.2.0",
      "model_name": "LayoutModel",
      "state": {
       "width": "300px"
      }
     },
     "bd16505befbc41009741cec768485229": {
      "model_module": "@jupyter-widgets/controls",
      "model_module_version": "1.5.0",
      "model_name": "HTMLModel",
      "state": {
       "layout": "IPY_MODEL_b401fdd688074852ab267a91162051b2",
       "style": "IPY_MODEL_049f509a59c6440d9c4ef6a0971e4b08",
       "value": "<b>Room thermal characteristics</b>"
      }
     },
     "bd4b6e6e9f444d66a21ef964227c8683": {
      "model_module": "@jupyter-widgets/controls",
      "model_module_version": "1.5.0",
      "model_name": "DescriptionStyleModel",
      "state": {
       "description_width": ""
      }
     },
     "bdf5e6e06c3a4879b345c39b11e583cc": {
      "model_module": "@jupyter-widgets/base",
      "model_module_version": "1.2.0",
      "model_name": "LayoutModel",
      "state": {}
     },
     "bf1f3ad62a254c538d36f7dce14ef2d2": {
      "model_module": "@jupyter-widgets/base",
      "model_module_version": "1.2.0",
      "model_name": "LayoutModel",
      "state": {
       "width": "300px"
      }
     },
     "c166e1bc6d064f81855e192121cc2d61": {
      "model_module": "@jupyter-widgets/controls",
      "model_module_version": "1.5.0",
      "model_name": "DescriptionStyleModel",
      "state": {
       "description_width": ""
      }
     },
     "c3d9e6fdb83c4f908f70a22a0a12f905": {
      "model_module": "@jupyter-widgets/base",
      "model_module_version": "1.2.0",
      "model_name": "LayoutModel",
      "state": {}
     },
     "c4d5030800974b2cb883a87fdb26e642": {
      "model_module": "@jupyter-widgets/base",
      "model_module_version": "1.2.0",
      "model_name": "LayoutModel",
      "state": {
       "width": "100px"
      }
     },
     "c5d6b82107df41c297c2f82d13a60849": {
      "model_module": "@jupyter-widgets/base",
      "model_module_version": "1.2.0",
      "model_name": "LayoutModel",
      "state": {
       "width": "300px"
      }
     },
     "c60d5c0d3664440aa8b07c878776e38f": {
      "model_module": "@jupyter-widgets/controls",
      "model_module_version": "1.5.0",
      "model_name": "FloatTextModel",
      "state": {
       "layout": "IPY_MODEL_0e5ddf878dd4418a8fd4ad4c54c5d550",
       "step": null,
       "style": "IPY_MODEL_9513adad55124539820d5e5134c02289",
       "value": 1
      }
     },
     "c8e5216ece8244c79e46585aefc736b2": {
      "model_module": "@jupyter-widgets/base",
      "model_module_version": "1.2.0",
      "model_name": "LayoutModel",
      "state": {}
     },
     "c961aae108b94b23a436b84a071be3ca": {
      "model_module": "@jupyter-widgets/controls",
      "model_module_version": "1.5.0",
      "model_name": "HTMLModel",
      "state": {
       "layout": "IPY_MODEL_2342de037535415fb329f7e96a46ef0b",
       "style": "IPY_MODEL_bd4b6e6e9f444d66a21ef964227c8683",
       "value": "<b>Outdoor temperature (T_out)</b>"
      }
     },
     "caa786c701b448178edcdda3e21d8c91": {
      "model_module": "@jupyter-widgets/base",
      "model_module_version": "1.2.0",
      "model_name": "LayoutModel",
      "state": {}
     },
     "caac0c3fa4684f4a8c592ab9b0951ba4": {
      "model_module": "@jupyter-widgets/base",
      "model_module_version": "1.2.0",
      "model_name": "LayoutModel",
      "state": {
       "width": "100px"
      }
     },
     "cad75fc710ff483787178a2417fda335": {
      "model_module": "@jupyter-widgets/controls",
      "model_module_version": "1.5.0",
      "model_name": "FloatTextModel",
      "state": {
       "layout": "IPY_MODEL_2947d8587feb4612bf9711edb1cd7139",
       "step": null,
       "style": "IPY_MODEL_b3fec0f4ef924bffab46cd7e18057664",
       "value": 0.5
      }
     },
     "cb501c2fddba45ad89b1bd151f8eee89": {
      "model_module": "@jupyter-widgets/base",
      "model_module_version": "1.2.0",
      "model_name": "LayoutModel",
      "state": {}
     },
     "cc02125247874e25b1f1753515388f6a": {
      "model_module": "@jupyter-widgets/base",
      "model_module_version": "1.2.0",
      "model_name": "LayoutModel",
      "state": {
       "width": "100px"
      }
     },
     "cc998d7745904178bf056c6d8d69081e": {
      "model_module": "@jupyter-widgets/controls",
      "model_module_version": "1.5.0",
      "model_name": "FloatTextModel",
      "state": {
       "layout": "IPY_MODEL_09489316666d4d21937cdfc257c7e7dd",
       "step": null,
       "style": "IPY_MODEL_bb53c31b46f14d4abad1734bf96cda30",
       "value": 1862000
      }
     },
     "ce0ded3dbdb843429cf5b5261607e2ba": {
      "model_module": "@jupyter-widgets/base",
      "model_module_version": "1.2.0",
      "model_name": "LayoutModel",
      "state": {}
     },
     "ce15c5cce68b4060976502d5fbc997d8": {
      "model_module": "@jupyter-widgets/controls",
      "model_module_version": "1.5.0",
      "model_name": "DescriptionStyleModel",
      "state": {
       "description_width": ""
      }
     },
     "ceaac81eaaa348d1a79b40dbca3d0c53": {
      "model_module": "@jupyter-widgets/controls",
      "model_module_version": "1.5.0",
      "model_name": "HTMLModel",
      "state": {
       "layout": "IPY_MODEL_00d1902b5f514225bab6f07d9c892428",
       "style": "IPY_MODEL_26ad801dcec048d7a00a38b48a5930b7",
       "value": "daily average"
      }
     },
     "cf1e2d11d30c4f1fb8d2f3352087912b": {
      "model_module": "@jupyter-widgets/controls",
      "model_module_version": "1.5.0",
      "model_name": "DescriptionStyleModel",
      "state": {
       "description_width": ""
      }
     },
     "cf653a07ea4b495db11e181628b25575": {
      "model_module": "@jupyter-widgets/base",
      "model_module_version": "1.2.0",
      "model_name": "LayoutModel",
      "state": {
       "justify_content": "flex-start"
      }
     },
     "cfe23b4d893342cd9b5fff6e04a8ae6a": {
      "model_module": "@jupyter-widgets/controls",
      "model_module_version": "1.5.0",
      "model_name": "HBoxModel",
      "state": {
       "children": [
        "IPY_MODEL_126cea6f9ed3415b994de4d0b82553c3",
        "IPY_MODEL_a1ad2249bc5244639a305e8829bc1b19",
        "IPY_MODEL_1efc302f73234a85b5e370568b5a1c7b"
       ],
       "layout": "IPY_MODEL_40d62487e45446538d2a5fafec2b13f1"
      }
     },
     "d0bcb28f1c0649fbbe28e389ea84fbca": {
      "model_module": "@jupyter-widgets/controls",
      "model_module_version": "1.5.0",
      "model_name": "DescriptionStyleModel",
      "state": {
       "description_width": ""
      }
     },
     "d0e5526b5d9e4e30be72bdac1d34251a": {
      "model_module": "@jupyter-widgets/controls",
      "model_module_version": "1.5.0",
      "model_name": "LabelModel",
      "state": {
       "layout": "IPY_MODEL_02b1083ca71a46a08e493c1b86510dab",
       "style": "IPY_MODEL_04df3b8d7a8f47f190a518412fc17a37",
       "value": "number of time steps"
      }
     },
     "d0eb9db9637048cc93b2c7b5beb56630": {
      "model_module": "@jupyter-widgets/controls",
      "model_module_version": "1.5.0",
      "model_name": "HBoxModel",
      "state": {
       "children": [
        "IPY_MODEL_427dd421c9c047a092f2dfebca45c644",
        "IPY_MODEL_cc998d7745904178bf056c6d8d69081e",
        "IPY_MODEL_11b256bfeee24f4185505e19146027ad"
       ],
       "layout": "IPY_MODEL_6b3cfbdc7a5a493084faad5c05206f69"
      }
     },
     "d2105fe56fb4436bb4fcd5c7216c7e33": {
      "model_module": "@jupyter-widgets/base",
      "model_module_version": "1.2.0",
      "model_name": "LayoutModel",
      "state": {
       "width": "300px"
      }
     },
     "d22cf92d4fdb4256b8cafc7326d09ac6": {
      "model_module": "@jupyter-widgets/controls",
      "model_module_version": "1.5.0",
      "model_name": "DescriptionStyleModel",
      "state": {
       "description_width": ""
      }
     },
     "d26fb0ba28544795afb5ceaaf3e655be": {
      "model_module": "@jupyter-widgets/controls",
      "model_module_version": "1.5.0",
      "model_name": "DescriptionStyleModel",
      "state": {
       "description_width": ""
      }
     },
     "d36e9a5bd00d4749b977a477973194bc": {
      "model_module": "@jupyter-widgets/base",
      "model_module_version": "1.2.0",
      "model_name": "LayoutModel",
      "state": {}
     },
     "d444381bb9d74c158f9c14f8719a7670": {
      "model_module": "@jupyter-widgets/controls",
      "model_module_version": "1.5.0",
      "model_name": "DescriptionStyleModel",
      "state": {
       "description_width": ""
      }
     },
     "d4d21d0f9c6b4d8fa79d34ba0832eb0e": {
      "model_module": "@jupyter-widgets/controls",
      "model_module_version": "1.5.0",
      "model_name": "HBoxModel",
      "state": {
       "children": [
        "IPY_MODEL_0004240bc16b4ea7855aa589f3f6e5a1",
        "IPY_MODEL_b5a571c2ff05454cbc20875e6bb25a21",
        "IPY_MODEL_4dfa2b690c774f5fbdeda02b7da63ebd"
       ],
       "layout": "IPY_MODEL_df98c6faf36344939786f327511f01ee"
      }
     },
     "d6914a4b7fe349189d744a340890ad6b": {
      "model_module": "@jupyter-widgets/controls",
      "model_module_version": "1.5.0",
      "model_name": "HBoxModel",
      "state": {
       "children": [
        "IPY_MODEL_6aefdd7b8de44dcca5d3bee0777d8ed2",
        "IPY_MODEL_d9822416947d411ababfa3f96ecc25fe"
       ],
       "layout": "IPY_MODEL_8073340c13d0454dabb4027f2b199d42"
      }
     },
     "d6e68e1d9d0e4e89aeebd22d14482f7c": {
      "model_module": "@jupyter-widgets/base",
      "model_module_version": "1.2.0",
      "model_name": "LayoutModel",
      "state": {
       "width": "100px"
      }
     },
     "d97596f5a51643e9975073fca529edc9": {
      "model_module": "@jupyter-widgets/controls",
      "model_module_version": "1.5.0",
      "model_name": "LabelModel",
      "state": {
       "layout": "IPY_MODEL_397c0a6501304adab3fe9688e91d9820",
       "style": "IPY_MODEL_dfa3694d176d4de29ae7538433035a26",
       "value": "m^3/s"
      }
     },
     "d9822416947d411ababfa3f96ecc25fe": {
      "model_module": "@jupyter-widgets/controls",
      "model_module_version": "1.5.0",
      "model_name": "FloatTextModel",
      "state": {
       "layout": "IPY_MODEL_8b6cc512a7e440cb9092c24a6a352104",
       "step": null,
       "style": "IPY_MODEL_63d56d0d10fd45d4af007150080aa8e7",
       "value": 61.116
      }
     },
     "d9dfe0319e1d4e2a90273a326d857360": {
      "model_module": "@jupyter-widgets/controls",
      "model_module_version": "1.5.0",
      "model_name": "DescriptionStyleModel",
      "state": {
       "description_width": ""
      }
     },
     "db6657cc84ae4c9cb3183e0fc4427c1e": {
      "model_module": "@jupyter-widgets/controls",
      "model_module_version": "1.5.0",
      "model_name": "HBoxModel",
      "state": {
       "children": [
        "IPY_MODEL_8a0dc4b4ea054910ad8af6c7b17d5cd2",
        "IPY_MODEL_c60d5c0d3664440aa8b07c878776e38f",
        "IPY_MODEL_4e7af713d2504c18b1f9aeccf33fc0b1"
       ],
       "layout": "IPY_MODEL_700818e288ff437eb664d9f3e619f07c"
      }
     },
     "dc3d8e84ea3d47e9a468c3df465a4c7d": {
      "model_module": "@jupyter-widgets/base",
      "model_module_version": "1.2.0",
      "model_name": "LayoutModel",
      "state": {}
     },
     "dcac8c87caf84d57952d7ba358a4c13a": {
      "model_module": "@jupyter-widgets/controls",
      "model_module_version": "1.5.0",
      "model_name": "FloatTextModel",
      "state": {
       "layout": "IPY_MODEL_e184ade3a93e407492125023054e5ac5",
       "step": null,
       "style": "IPY_MODEL_2bbc08422eaa49b68ca8bfd4f41c3096",
       "value": 5
      }
     },
     "dcd4c35e13ea4b539a78ac79a3d84a6b": {
      "model_module": "@jupyter-widgets/controls",
      "model_module_version": "1.5.0",
      "model_name": "DescriptionStyleModel",
      "state": {
       "description_width": ""
      }
     },
     "de1cfa25f936487c96bebaf6cda440be": {
      "model_module": "@jupyter-widgets/base",
      "model_module_version": "1.2.0",
      "model_name": "LayoutModel",
      "state": {
       "width": "300px"
      }
     },
     "dec052316d68451c9e336d1d92aaaaa5": {
      "model_module": "@jupyter-widgets/controls",
      "model_module_version": "1.5.0",
      "model_name": "HTMLModel",
      "state": {
       "layout": "IPY_MODEL_d2105fe56fb4436bb4fcd5c7216c7e33",
       "style": "IPY_MODEL_8bba23ede2f049c280a2f7329d0f8f28",
       "value": "stem travel speed"
      }
     },
     "dee105aeb789476098f11f027e3b4cde": {
      "model_module": "@jupyter-widgets/base",
      "model_module_version": "1.2.0",
      "model_name": "LayoutModel",
      "state": {}
     },
     "df98c6faf36344939786f327511f01ee": {
      "model_module": "@jupyter-widgets/base",
      "model_module_version": "1.2.0",
      "model_name": "LayoutModel",
      "state": {}
     },
     "dfa3694d176d4de29ae7538433035a26": {
      "model_module": "@jupyter-widgets/controls",
      "model_module_version": "1.5.0",
      "model_name": "DescriptionStyleModel",
      "state": {
       "description_width": ""
      }
     },
     "e0e9e067f6444e48b82de0cccb567852": {
      "model_module": "@jupyter-widgets/controls",
      "model_module_version": "1.5.0",
      "model_name": "FloatTextModel",
      "state": {
       "layout": "IPY_MODEL_fc9a3cac467244ec836931409abf74a7",
       "step": null,
       "style": "IPY_MODEL_04b4d9f627ad4ed880b992160bd678ab",
       "value": 60
      }
     },
     "e184ade3a93e407492125023054e5ac5": {
      "model_module": "@jupyter-widgets/base",
      "model_module_version": "1.2.0",
      "model_name": "LayoutModel",
      "state": {
       "width": "100px"
      }
     },
     "e19b8fc0aff34ca3b9a1f362342c5f43": {
      "model_module": "@jupyter-widgets/controls",
      "model_module_version": "1.5.0",
      "model_name": "DescriptionStyleModel",
      "state": {
       "description_width": ""
      }
     },
     "e36113ae9d564ba8b49d84c04ba2fde4": {
      "model_module": "@jupyter-widgets/controls",
      "model_module_version": "1.5.0",
      "model_name": "HBoxModel",
      "state": {
       "children": [
        "IPY_MODEL_b9629ed9f18145e88e8b1dab91c415db",
        "IPY_MODEL_02892bf67c0d46bd91525154759cb2d1",
        "IPY_MODEL_ef5dea83251948648892c378291febdc"
       ],
       "layout": "IPY_MODEL_c3d9e6fdb83c4f908f70a22a0a12f905"
      }
     },
     "e3c27d42e1a749b19f9dcdeacbb97d84": {
      "model_module": "@jupyter-widgets/base",
      "model_module_version": "1.2.0",
      "model_name": "LayoutModel",
      "state": {}
     },
     "e453e920d47a49298c6dad9d1be5cf17": {
      "model_module": "@jupyter-widgets/base",
      "model_module_version": "1.2.0",
      "model_name": "LayoutModel",
      "state": {}
     },
     "e4a1b72a449f47b9978cd079fb5dddf2": {
      "model_module": "@jupyter-widgets/controls",
      "model_module_version": "1.5.0",
      "model_name": "HTMLModel",
      "state": {
       "layout": "IPY_MODEL_91118c345de148b4a397e4ed6d41a2a3",
       "style": "IPY_MODEL_731ced2457fa46298b67cba872da8d2a",
       "value": "low dead band limit"
      }
     },
     "e645b3a154504f5abe0e5b732cb4a4ae": {
      "model_module": "@jupyter-widgets/controls",
      "model_module_version": "1.5.0",
      "model_name": "DescriptionStyleModel",
      "state": {
       "description_width": ""
      }
     },
     "e6c3b1df08604f288b9116c64847b877": {
      "model_module": "@jupyter-widgets/base",
      "model_module_version": "1.2.0",
      "model_name": "LayoutModel",
      "state": {
       "width": "300px"
      }
     },
     "e6f164b222c3432c8b0c2ba00d5b2d6d": {
      "model_module": "@jupyter-widgets/controls",
      "model_module_version": "1.5.0",
      "model_name": "DescriptionStyleModel",
      "state": {
       "description_width": ""
      }
     },
     "ead17423c4dd4e4c9288d112109b2771": {
      "model_module": "@jupyter-widgets/base",
      "model_module_version": "1.2.0",
      "model_name": "LayoutModel",
      "state": {
       "width": "300px"
      }
     },
     "ec843df9cae340d08b4e99bcca84f054": {
      "model_module": "@jupyter-widgets/base",
      "model_module_version": "1.2.0",
      "model_name": "LayoutModel",
      "state": {
       "width": "300px"
      }
     },
     "ee3cd2160bab419cb52b43c6b7d812ee": {
      "model_module": "@jupyter-widgets/base",
      "model_module_version": "1.2.0",
      "model_name": "LayoutModel",
      "state": {}
     },
     "ee75e29dda404b1083be622935c7f151": {
      "model_module": "@jupyter-widgets/controls",
      "model_module_version": "1.5.0",
      "model_name": "ButtonStyleModel",
      "state": {}
     },
     "ef5dea83251948648892c378291febdc": {
      "model_module": "@jupyter-widgets/controls",
      "model_module_version": "1.5.0",
      "model_name": "LabelModel",
      "state": {
       "layout": "IPY_MODEL_caa786c701b448178edcdda3e21d8c91",
       "style": "IPY_MODEL_7c552db580ef42979de5f36848d159e9",
       "value": "J/K"
      }
     },
     "f0240b3a6e0c4976a0794a7c19bb1c7b": {
      "model_module": "@jupyter-widgets/controls",
      "model_module_version": "1.5.0",
      "model_name": "FloatTextModel",
      "state": {
       "layout": "IPY_MODEL_2c3a9d18beff47bb80f92e968eed5a30",
       "step": null,
       "style": "IPY_MODEL_e19b8fc0aff34ca3b9a1f362342c5f43",
       "value": 0.019
      }
     },
     "f026d38da63b417d892f656d3146815c": {
      "model_module": "@jupyter-widgets/controls",
      "model_module_version": "1.5.0",
      "model_name": "HTMLModel",
      "state": {
       "layout": "IPY_MODEL_16fcc32d706848a7b53feb87bc9fb951",
       "style": "IPY_MODEL_b8279ff680814007bf5b2021cb83de7c",
       "value": "<b>Time step</b>"
      }
     },
     "f1f3285e888f41a8bff8218da99df380": {
      "model_module": "@jupyter-widgets/controls",
      "model_module_version": "1.5.0",
      "model_name": "HBoxModel",
      "state": {
       "children": [
        "IPY_MODEL_38836e3e83f843b8ac958913ed8474d3",
        "IPY_MODEL_24d1b72fb30f4f9a96d9890f4c6e4fc3",
        "IPY_MODEL_d97596f5a51643e9975073fca529edc9"
       ],
       "layout": "IPY_MODEL_773d97b4fb084e34ba4050fb923b6e9a"
      }
     },
     "f22df83a95bb4adfa2328bd1feccfd23": {
      "model_module": "@jupyter-widgets/controls",
      "model_module_version": "1.5.0",
      "model_name": "FloatTextModel",
      "state": {
       "layout": "IPY_MODEL_cc02125247874e25b1f1753515388f6a",
       "step": null,
       "style": "IPY_MODEL_d26fb0ba28544795afb5ceaaf3e655be",
       "value": 75
      }
     },
     "f4ddde7eff2746b3b7b0422dada30431": {
      "model_module": "@jupyter-widgets/controls",
      "model_module_version": "1.5.0",
      "model_name": "FloatTextModel",
      "state": {
       "layout": "IPY_MODEL_c4d5030800974b2cb883a87fdb26e642",
       "step": null,
       "style": "IPY_MODEL_82a547dd3560458a9bfa0f518f6cf40f",
       "value": 65
      }
     },
     "f4eae4764c55417c979a8179ef95b648": {
      "model_module": "@jupyter-widgets/controls",
      "model_module_version": "1.5.0",
      "model_name": "HTMLModel",
      "state": {
       "layout": "IPY_MODEL_4fbcde0580df4e258ff810c4dd1dd8d9",
       "style": "IPY_MODEL_c166e1bc6d064f81855e192121cc2d61",
       "value": "water entering temperature (T_we)"
      }
     },
     "f51c59d998084a6fba327c92c37d3105": {
      "model_module": "@jupyter-widgets/base",
      "model_module_version": "1.2.0",
      "model_name": "LayoutModel",
      "state": {
       "width": "100px"
      }
     },
     "f5e5d57b2f3948e8a90d9771b8873184": {
      "model_module": "@jupyter-widgets/controls",
      "model_module_version": "1.5.0",
      "model_name": "DescriptionStyleModel",
      "state": {
       "description_width": ""
      }
     },
     "f68f826d9a924f2b977de7dfc8e2ab9a": {
      "model_module": "@jupyter-widgets/base",
      "model_module_version": "1.2.0",
      "model_name": "LayoutModel",
      "state": {}
     },
     "f6f3cc87237f4f4b8d26cf84e1e3e2c6": {
      "model_module": "@jupyter-widgets/base",
      "model_module_version": "1.2.0",
      "model_name": "LayoutModel",
      "state": {}
     },
     "f7e313b548c0407789f7646a330e958a": {
      "model_module": "@jupyter-widgets/controls",
      "model_module_version": "1.5.0",
      "model_name": "HBoxModel",
      "state": {
       "children": [
        "IPY_MODEL_c961aae108b94b23a436b84a071be3ca"
       ],
       "layout": "IPY_MODEL_c8e5216ece8244c79e46585aefc736b2"
      }
     },
     "f8020aeb21064cd6abf9183cce0c7aa9": {
      "model_module": "@jupyter-widgets/controls",
      "model_module_version": "1.5.0",
      "model_name": "LabelModel",
      "state": {
       "layout": "IPY_MODEL_77e63fab969c477e8e3d841ce559a2d8",
       "style": "IPY_MODEL_01efe3a0d74a432ab27eaa9a320278b2",
       "value": "°C"
      }
     },
     "f8e62c0ea47c4b6da3f1a50e3fb94df9": {
      "model_module": "@jupyter-widgets/base",
      "model_module_version": "1.2.0",
      "model_name": "LayoutModel",
      "state": {
       "width": "100px"
      }
     },
     "fa8a28343d7c4e528edede1815bf9ebd": {
      "model_module": "@jupyter-widgets/base",
      "model_module_version": "1.2.0",
      "model_name": "LayoutModel",
      "state": {
       "width": "100px"
      }
     },
     "faf1458922264acfb6f3f602121fffd2": {
      "model_module": "@jupyter-widgets/controls",
      "model_module_version": "1.5.0",
      "model_name": "LabelModel",
      "state": {
       "layout": "IPY_MODEL_13c6839b35b946debefcb1f14188e2c0",
       "style": "IPY_MODEL_ce15c5cce68b4060976502d5fbc997d8",
       "value": "°C"
      }
     },
     "fb46223c2bb14c488de35fcf604ac043": {
      "model_module": "@jupyter-widgets/controls",
      "model_module_version": "1.5.0",
      "model_name": "DescriptionStyleModel",
      "state": {
       "description_width": ""
      }
     },
     "fbe21d4fb138458ebdc61c1ca3a8bdbe": {
      "model_module": "@jupyter-widgets/controls",
      "model_module_version": "1.5.0",
      "model_name": "HBoxModel",
      "state": {
       "children": [
        "IPY_MODEL_92a5c44a3476489ea77a68cd0af8b50d",
        "IPY_MODEL_6573454972244c8d8aa68e8d15e1435e"
       ],
       "layout": "IPY_MODEL_bdf5e6e06c3a4879b345c39b11e583cc"
      }
     },
     "fc99b6323e344275b4dbed3207f83008": {
      "model_module": "@jupyter-widgets/controls",
      "model_module_version": "1.5.0",
      "model_name": "FloatTextModel",
      "state": {
       "layout": "IPY_MODEL_2ba8db1a0c734acdadbce6a9f5fc312d",
       "step": null,
       "style": "IPY_MODEL_7b09400aaa0841bdbd537e9df4f9be97",
       "value": 150
      }
     },
     "fc9a3cac467244ec836931409abf74a7": {
      "model_module": "@jupyter-widgets/base",
      "model_module_version": "1.2.0",
      "model_name": "LayoutModel",
      "state": {
       "width": "100px"
      }
     },
     "fcee4bd28b504b30b17c5c2df010d9b7": {
      "model_module": "@jupyter-widgets/base",
      "model_module_version": "1.2.0",
      "model_name": "LayoutModel",
      "state": {}
     },
     "fea07ab2991546b683c327f97644902f": {
      "model_module": "@jupyter-widgets/base",
      "model_module_version": "1.2.0",
      "model_name": "LayoutModel",
      "state": {
       "width": "300px"
      }
     },
     "ff0d9f8fb0434d2ebddf096682796cd3": {
      "model_module": "@jupyter-widgets/base",
      "model_module_version": "1.2.0",
      "model_name": "LayoutModel",
      "state": {}
     }
    },
    "version_major": 2,
    "version_minor": 0
   }
  }
 },
 "nbformat": 4,
 "nbformat_minor": 4
}
